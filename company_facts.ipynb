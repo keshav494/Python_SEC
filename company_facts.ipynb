{
 "cells": [
  {
   "cell_type": "code",
   "execution_count": 16,
   "id": "0f1f6aaf",
   "metadata": {},
   "outputs": [],
   "source": [
    "import pandas as pd\n",
    "import requests\n",
    "import sec_functions as sf\n",
    "from headers import headers\n"
   ]
  },
  {
   "cell_type": "code",
   "execution_count": 17,
   "id": "21f2e470",
   "metadata": {},
   "outputs": [],
   "source": [
    "def get_facts(ticker, headers=headers):\n",
    "    cik = sf.cik_matching_ticker(ticker)\n",
    "    url = f\"http://data.sec.gov/api/xbrl/companyfacts/CIK{cik}.json\"\n",
    "    company_facts = requests.get(url, headers=headers).json()\n",
    "    return company_facts"
   ]
  },
  {
   "cell_type": "code",
   "execution_count": 18,
   "id": "4ff4179c",
   "metadata": {},
   "outputs": [],
   "source": [
    "def facts_DF(ticker, headers=headers):\n",
    "    facts = get_facts(ticker, headers)\n",
    "    us_gaap_data = facts[\"facts\"][\"us-gaap\"]            #this is not just one year or one filing, this is all the data and there are two categories under facts - dei and us-gaap. You can check the relevant tags on edgar\n",
    "    df_data = []\n",
    "\n",
    "    for fact, details in us_gaap_data.items():\n",
    "        for unit in details[\"units\"]:\n",
    "            for item in details[\"units\"][unit]:\n",
    "                row = item.copy()\n",
    "                row[\"fact\"] = fact\n",
    "                df_data.append(row)\n",
    "\n",
    "    df = pd.DataFrame(df_data)\n",
    "    df[\"end\"] = pd.to_datetime(df[\"end\"])\n",
    "    df[\"start\"] = pd.to_datetime(df[\"start\"])\n",
    "    df = df.drop_duplicates(subset=[\"fact\", \"end\", \"val\"])    #to remove any duplicates from mutliple forms like 8K etc.\n",
    "    df.set_index(\"end\", inplace=True)\n",
    "    labels_dict = {fact: details[\"label\"] for fact, details in us_gaap_data.items()}\n",
    "    return df, labels_dict\n"
   ]
  },
  {
   "cell_type": "code",
   "execution_count": 19,
   "id": "bdb0993e",
   "metadata": {},
   "outputs": [],
   "source": [
    "def annual_facts(ticker, headers=headers):\n",
    "    accession_nums = sf.get_filtered_filings(ticker, ten_k=True, just_acession_numbers=True)\n",
    "    df, label_dict = facts_DF(ticker, headers)\n",
    "    ten_k = df[df[\"accn\"].isin(accession_nums)]\n",
    "    ten_k = ten_k[ten_k.index.isin(accession_nums.index)]\n",
    "    pivot = ten_k.pivot_table(values=\"val\", columns=\"fact\", index=\"end\")\n",
    "    pivot.rename(columns=label_dict, inplace=True)\n",
    "    return pivot.T"
   ]
  },
  {
   "cell_type": "code",
   "execution_count": null,
   "id": "2f269e61",
   "metadata": {},
   "outputs": [],
   "source": []
  }
 ],
 "metadata": {
  "kernelspec": {
   "display_name": "Python 3",
   "language": "python",
   "name": "python3"
  },
  "language_info": {
   "codemirror_mode": {
    "name": "ipython",
    "version": 3
   },
   "file_extension": ".py",
   "mimetype": "text/x-python",
   "name": "python",
   "nbconvert_exporter": "python",
   "pygments_lexer": "ipython3",
   "version": "3.13.5"
  }
 },
 "nbformat": 4,
 "nbformat_minor": 5
}
